{
 "cells": [
  {
   "cell_type": "code",
   "execution_count": 4,
   "metadata": {},
   "outputs": [
    {
     "name": "stderr",
     "output_type": "stream",
     "text": [
      "C:\\Users\\avina\\AppData\\Local\\Temp\\ipykernel_4032\\3946892273.py:10: DeprecationWarning: executable_path has been deprecated, please pass in a Service object\n",
      "  dr = webdriver.Chrome(executable_path=r'C:\\\\Program Files\\\\Google\\\\Chrome Beta\\\\Application\\\\chrome.exe' , chrome_options=options)\n",
      "C:\\Users\\avina\\AppData\\Local\\Temp\\ipykernel_4032\\3946892273.py:10: DeprecationWarning: use options instead of chrome_options\n",
      "  dr = webdriver.Chrome(executable_path=r'C:\\\\Program Files\\\\Google\\\\Chrome Beta\\\\Application\\\\chrome.exe' , chrome_options=options)\n"
     ]
    }
   ],
   "source": [
    "from selenium import webdriver\n",
    "import time\n",
    "from selenium.webdriver.common.keys import Keys\n",
    "from selenium.webdriver.common.by import By\n",
    "from selenium.webdriver.chrome.options import Options\n",
    "\n",
    "\n",
    "options = Options()\n",
    "options.binary_location = 'C:\\\\Program Files\\\\Google\\\\Chrome Beta\\\\Application\\\\chrome.exe'\n",
    "dr = webdriver.Chrome(executable_path=r'C:\\\\Program Files\\\\Google\\\\Chrome Beta\\\\Application\\\\chrome.exe' , options=options)\n",
    "time.sleep(1)\n",
    "dr.get(\"https://studio.youtube.com/channel/UC4L81glDJwzQKo3Xmn0nA5w\")"
   ]
  }
 ],
 "metadata": {
  "kernelspec": {
   "display_name": "Python 3.11.1 64-bit",
   "language": "python",
   "name": "python3"
  },
  "language_info": {
   "codemirror_mode": {
    "name": "ipython",
    "version": 3
   },
   "file_extension": ".py",
   "mimetype": "text/x-python",
   "name": "python",
   "nbconvert_exporter": "python",
   "pygments_lexer": "ipython3",
   "version": "3.11.1"
  },
  "orig_nbformat": 4,
  "vscode": {
   "interpreter": {
    "hash": "a19faa2c24c29fedbe85f2977bfb142c7df99753d0c002a69c9720ce9e70f158"
   }
  }
 },
 "nbformat": 4,
 "nbformat_minor": 2
}
